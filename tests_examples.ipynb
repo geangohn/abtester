{
 "cells": [
  {
   "cell_type": "code",
   "execution_count": 2,
   "metadata": {},
   "outputs": [],
   "source": [
    "import numpy as np"
   ]
  },
  {
   "cell_type": "markdown",
   "metadata": {},
   "source": [
    "## T-test\n",
    "\n",
    "Работает, если распределение показателя похоже на нормальное.\n",
    "\n",
    "H0: a1 - a2 = 0  \n",
    "H1: a1 - a2 <=> 0"
   ]
  },
  {
   "cell_type": "code",
   "execution_count": 5,
   "metadata": {},
   "outputs": [
    {
     "name": "stdout",
     "output_type": "stream",
     "text": [
      "Statistics=-0.174, p=0.865\n",
      "Same distribution (fail to reject H0)\n"
     ]
    }
   ],
   "source": [
    "from scipy.stats import ttest_ind\n",
    "\n",
    "test=np.array([0, 1,2,2,2,3,5 ])\n",
    "control=np.array([0,1,2,2,3,4,4])\n",
    "\n",
    "stat, p = ttest_ind(test, control, equal_var=False)\n",
    "\n",
    "print('Statistics=%.3f, p=%.3f' % (stat, p))\n",
    "\n",
    "# interpret\n",
    "alpha = 0.05\n",
    "if p > alpha:\n",
    "\tprint('Same distribution (fail to reject H0)')\n",
    "else:\n",
    "\tprint('Different distribution (reject H0)')"
   ]
  },
  {
   "cell_type": "markdown",
   "metadata": {},
   "source": [
    "## Mann-Witnney U-test\n",
    "\n",
    "- Ранговый критерий  \n",
    "- Как любой знаковый или ранговый критерий предполагает, что *значения в выборке НЕ повторяются*  \n",
    "- Предполагает \"сдвиг\" распределения\n",
    "- Подходит для *любых* распределений  \n",
    "\n",
    "H0: F1(x) = F2(x)  \n",
    "H1: F1(x) = F2(x + $\\delta$), $\\delta$ <=> 0"
   ]
  },
  {
   "cell_type": "code",
   "execution_count": 3,
   "metadata": {},
   "outputs": [
    {
     "name": "stdout",
     "output_type": "stream",
     "text": [
      "Statistics=22.500, p=0.954\n",
      "Same distribution (fail to reject H0)\n"
     ]
    }
   ],
   "source": [
    "from scipy.stats import mannwhitneyu\n",
    "\n",
    "test=np.array([1,1,1,1,2,2,2,3,5])\n",
    "control=np.array([1,11,2,2,2,3,3,4,4])\n",
    "\n",
    "stat, p = mannwhitneyu(test, control, alternative='greater')\n",
    "\n",
    "print('Statistics=%.3f, p=%.3f' % (stat, p))\n",
    "\n",
    "# interpret\n",
    "alpha = 0.05\n",
    "if p > alpha:\n",
    "\tprint('Same distribution (fail to reject H0)')\n",
    "else:\n",
    "\tprint('Different distribution (reject H0)')"
   ]
  },
  {
   "cell_type": "markdown",
   "metadata": {},
   "source": [
    "## Bootstrapped tests\n",
    "\n",
    "\n",
    "Библиотека [bootstrapped](https://github.com/facebookincubator/bootstrapped) от FaceBook\n",
    "- Подходит для любых распределений\n",
    "- Можно тестировать любые гипотезы (в т.ч. о равенстве медиан, квантилей и т.п)\n",
    "- При выполнений условия теста Манно-Уитни обладает меньшей мощностью\n",
    "\n",
    "Смотрим попадает ли 0 в доверительный интервал. По умалчанию строится двусторонний интервал"
   ]
  },
  {
   "cell_type": "code",
   "execution_count": 8,
   "metadata": {},
   "outputs": [
    {
     "name": "stdout",
     "output_type": "stream",
     "text": [
      "0.3076923076923075    (-2.9951923076923066, 3.385096153846153)\n"
     ]
    }
   ],
   "source": [
    "import bootstrapped.bootstrap as bs\n",
    "import bootstrapped.compare_functions as bs_compare\n",
    "import bootstrapped.stats_functions as bs_stats\n",
    "import bootstrapped.power as power\n",
    "\n",
    "test=np.array([1,1,1,1,2,2,2,3,5,6,7,8,17])\n",
    "control=np.array([1,1,2,2,2,3,3,4,4,5,7,14])\n",
    "\n",
    "res = bs.bootstrap_ab(test=test, ctrl=control, \n",
    "                                  stat_func=bs_stats.mean, \n",
    "                                  compare_func=bs_compare.difference,\n",
    "                                  alpha=0.05, \n",
    "                                  num_iterations=1000)\n",
    "print(res)"
   ]
  }
 ],
 "metadata": {
  "kernelspec": {
   "display_name": "Python 3",
   "language": "python",
   "name": "python3"
  },
  "pycharm": {
   "stem_cell": {
    "cell_type": "raw",
    "source": [],
    "metadata": {
     "collapsed": false
    }
   }
  }
 },
 "nbformat": 4,
 "nbformat_minor": 2
}
